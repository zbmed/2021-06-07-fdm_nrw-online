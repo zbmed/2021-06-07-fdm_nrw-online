{
 "cells": [
  {
   "cell_type": "code",
   "execution_count": 1,
   "id": "c4ecebd5",
   "metadata": {},
   "outputs": [],
   "source": [
    "import urllib.request\n",
    "import json"
   ]
  },
  {
   "cell_type": "code",
   "execution_count": 4,
   "id": "84f4c947",
   "metadata": {},
   "outputs": [],
   "source": [
    "base_url = \"https://api.datacite.org/application/vnd.datacite.datacite+json/\"\n",
    "doi = \"10.6084/m9.figshare.155613\"\n",
    "full_url = base_url + doi"
   ]
  },
  {
   "cell_type": "code",
   "execution_count": 3,
   "id": "1c7037e6",
   "metadata": {},
   "outputs": [],
   "source": [
    "doi_json_dataset = urllib.request.urlopen(full_url).read()"
   ]
  },
  {
   "cell_type": "code",
   "execution_count": 5,
   "id": "5b284de7",
   "metadata": {},
   "outputs": [],
   "source": [
    "doi_dataset = json.loads(doi_json_dataset)"
   ]
  },
  {
   "cell_type": "code",
   "execution_count": 6,
   "id": "122cebed",
   "metadata": {},
   "outputs": [
    {
     "data": {
      "text/plain": [
       "{'id': 'https://doi.org/10.6084/m9.figshare.155613',\n",
       " 'doi': '10.6084/M9.FIGSHARE.155613',\n",
       " 'url': 'https://figshare.com/articles/dataset/git_repository_for_paper_on_git_and_reproducible_science/155613',\n",
       " 'types': {'ris': 'DATA',\n",
       "  'bibtex': 'misc',\n",
       "  'citeproc': 'dataset',\n",
       "  'schemaOrg': 'Dataset',\n",
       "  'resourceType': 'Dataset',\n",
       "  'resourceTypeGeneral': 'Dataset'},\n",
       " 'creators': [{'name': 'Ram, Karthik',\n",
       "   'nameType': 'Personal',\n",
       "   'givenName': 'Karthik',\n",
       "   'familyName': 'Ram',\n",
       "   'affiliation': [],\n",
       "   'nameIdentifiers': [{'schemeUri': 'https://orcid.org',\n",
       "     'nameIdentifier': 'https://orcid.org/0000-0002-0233-1757',\n",
       "     'nameIdentifierScheme': 'ORCID'}]}],\n",
       " 'titles': [{'title': 'git repository for paper on git and reproducible science'}],\n",
       " 'publisher': 'figshare',\n",
       " 'container': {},\n",
       " 'subjects': [{'subject': '60102 Bioinformatics', 'subjectScheme': 'FOR'},\n",
       "  {'subject': 'FOS: Computer and information sciences',\n",
       "   'schemeUri': 'http://www.oecd.org/science/inno/38235147.pdf',\n",
       "   'subjectScheme': 'Fields of Science and Technology (FOS)'},\n",
       "  {'subject': 'FOS: Computer and information sciences',\n",
       "   'subjectScheme': 'Fields of Science and Technology (FOS)'}],\n",
       " 'contributors': [],\n",
       " 'dates': [{'date': '2013-02-02', 'dateType': 'Created'},\n",
       "  {'date': '2013-02-11', 'dateType': 'Updated'},\n",
       "  {'date': '2013', 'dateType': 'Issued'}],\n",
       " 'publicationYear': 2013,\n",
       " 'identifiers': [],\n",
       " 'sizes': ['18290097 Bytes'],\n",
       " 'formats': [],\n",
       " 'rightsList': [{'rights': 'Creative Commons Attribution 4.0 International',\n",
       "   'rightsUri': 'https://creativecommons.org/licenses/by/4.0/legalcode',\n",
       "   'schemeUri': 'https://spdx.org/licenses/',\n",
       "   'rightsIdentifier': 'cc-by-4.0',\n",
       "   'rightsIdentifierScheme': 'SPDX'}],\n",
       " 'descriptions': [{'description': \"This is the archived git repostiory for this paper: git can facilitate greater reproducibility and increased transparency in science Paper is currently in press in Source Code in Medicine and Biology and this zipped repo gives you access to the full history of the paper's development.\",\n",
       "   'descriptionType': 'Abstract'}],\n",
       " 'geoLocations': [],\n",
       " 'fundingReferences': [],\n",
       " 'relatedIdentifiers': [],\n",
       " 'schemaVersion': 'http://datacite.org/schema/kernel-4',\n",
       " 'providerId': 'figshare',\n",
       " 'clientId': 'figshare.ars',\n",
       " 'agency': 'datacite',\n",
       " 'state': 'findable'}"
      ]
     },
     "execution_count": 6,
     "metadata": {},
     "output_type": "execute_result"
    }
   ],
   "source": [
    "doi_dataset"
   ]
  },
  {
   "cell_type": "code",
   "execution_count": 7,
   "id": "2b8de098",
   "metadata": {},
   "outputs": [
    {
     "data": {
      "text/plain": [
       "dict"
      ]
     },
     "execution_count": 7,
     "metadata": {},
     "output_type": "execute_result"
    }
   ],
   "source": [
    "type(doi_dataset)"
   ]
  },
  {
   "cell_type": "code",
   "execution_count": 8,
   "id": "da063593",
   "metadata": {},
   "outputs": [
    {
     "data": {
      "text/plain": [
       "dict_keys(['id', 'doi', 'url', 'types', 'creators', 'titles', 'publisher', 'container', 'subjects', 'contributors', 'dates', 'publicationYear', 'identifiers', 'sizes', 'formats', 'rightsList', 'descriptions', 'geoLocations', 'fundingReferences', 'relatedIdentifiers', 'schemaVersion', 'providerId', 'clientId', 'agency', 'state'])"
      ]
     },
     "execution_count": 8,
     "metadata": {},
     "output_type": "execute_result"
    }
   ],
   "source": [
    "doi_dataset.keys()"
   ]
  },
  {
   "cell_type": "code",
   "execution_count": 9,
   "id": "25f4b493",
   "metadata": {},
   "outputs": [
    {
     "name": "stdout",
     "output_type": "stream",
     "text": [
      "{'ris': 'DATA', 'bibtex': 'misc', 'citeproc': 'dataset', 'schemaOrg': 'Dataset', 'resourceType': 'Dataset', 'resourceTypeGeneral': 'Dataset'}\n"
     ]
    }
   ],
   "source": [
    "print(doi_dataset[\"types\"])"
   ]
  },
  {
   "cell_type": "code",
   "execution_count": 10,
   "id": "349ec0f3",
   "metadata": {},
   "outputs": [
    {
     "name": "stdout",
     "output_type": "stream",
     "text": [
      "Dataset\n"
     ]
    }
   ],
   "source": [
    "print(doi_dataset[\"types\"][\"resourceTypeGeneral\"])"
   ]
  },
  {
   "cell_type": "code",
   "execution_count": 11,
   "id": "847d2135",
   "metadata": {},
   "outputs": [
    {
     "name": "stdout",
     "output_type": "stream",
     "text": [
      "[{'title': 'git repository for paper on git and reproducible science'}]\n"
     ]
    }
   ],
   "source": [
    "print(doi_dataset[\"titles\"])"
   ]
  },
  {
   "cell_type": "code",
   "execution_count": 12,
   "id": "b7a2c76f",
   "metadata": {},
   "outputs": [
    {
     "name": "stdout",
     "output_type": "stream",
     "text": [
      "{'title': 'git repository for paper on git and reproducible science'}\n"
     ]
    }
   ],
   "source": [
    "print(doi_dataset[\"titles\"][0])"
   ]
  },
  {
   "cell_type": "code",
   "execution_count": 14,
   "id": "3951a6d6",
   "metadata": {},
   "outputs": [
    {
     "name": "stdout",
     "output_type": "stream",
     "text": [
      "git repository for paper on git and reproducible science\n"
     ]
    }
   ],
   "source": [
    "print(doi_dataset[\"titles\"][0][\"title\"])"
   ]
  },
  {
   "cell_type": "code",
   "execution_count": 16,
   "id": "4c0bcfff",
   "metadata": {},
   "outputs": [],
   "source": [
    "dois = [\"10.6084/m9.figshare.155613\",\n",
    "        \"10.6084/m9.figshare.153821.v1\",\n",
    "        \"10.7490/f1000research.1115338.1\",\n",
    "        \"10.5281/zenodo.2599866\"]"
   ]
  },
  {
   "cell_type": "code",
   "execution_count": null,
   "id": "91c39035",
   "metadata": {},
   "outputs": [],
   "source": []
  }
 ],
 "metadata": {
  "kernelspec": {
   "display_name": "Python 3",
   "language": "python",
   "name": "python3"
  },
  "language_info": {
   "codemirror_mode": {
    "name": "ipython",
    "version": 3
   },
   "file_extension": ".py",
   "mimetype": "text/x-python",
   "name": "python",
   "nbconvert_exporter": "python",
   "pygments_lexer": "ipython3",
   "version": "3.7.6"
  }
 },
 "nbformat": 4,
 "nbformat_minor": 5
}
